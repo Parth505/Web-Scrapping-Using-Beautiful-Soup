{
 "cells": [
  {
   "cell_type": "code",
   "execution_count": 1,
   "metadata": {},
   "outputs": [],
   "source": [
    "from bs4 import BeautifulSoup as bs\n",
    "import requests\n",
    "import re,pyperclip\n",
    "import pandas as pd\n",
    "\n",
    "source = 'https://www.youtube.com/watch?v=GjKQ6V_ViQE'"
   ]
  },
  {
   "cell_type": "code",
   "execution_count": 2,
   "metadata": {},
   "outputs": [],
   "source": [
    "url = 'https://keithgalli.github.io/web-scraping/example.html' # can directly pass URL it in request.get() as an argument."
   ]
  },
  {
   "cell_type": "code",
   "execution_count": 3,
   "metadata": {},
   "outputs": [],
   "source": [
    "response = requests.get('https://keithgalli.github.io/web-scraping/example.html')"
   ]
  },
  {
   "cell_type": "code",
   "execution_count": 4,
   "metadata": {},
   "outputs": [],
   "source": [
    "soup = bs(response.content) # gets the html of the webpage."
   ]
  },
  {
   "cell_type": "code",
   "execution_count": 5,
   "metadata": {},
   "outputs": [
    {
     "data": {
      "text/plain": [
       "<html>\n",
       "<head>\n",
       "<title>HTML Example</title>\n",
       "</head>\n",
       "<body>\n",
       "<div align=\"middle\">\n",
       "<h1>HTML Webpage</h1>\n",
       "<p>Link to more interesting example: <a href=\"https://keithgalli.github.io/web-scraping/webpage.html\">keithgalli.github.io/web-scraping/webpage.html</a></p>\n",
       "</div>\n",
       "<h2>A Header</h2>\n",
       "<p><i>Some italicized text</i></p>\n",
       "<h2>Another header</h2>\n",
       "<p id=\"paragraph-id\"><b>Some bold text</b></p>\n",
       "</body>\n",
       "</html>"
      ]
     },
     "execution_count": 5,
     "metadata": {},
     "output_type": "execute_result"
    }
   ],
   "source": [
    "soup"
   ]
  },
  {
   "cell_type": "code",
   "execution_count": 6,
   "metadata": {},
   "outputs": [
    {
     "name": "stdout",
     "output_type": "stream",
     "text": [
      "<html>\n",
      " <head>\n",
      "  <title>\n",
      "   HTML Example\n",
      "  </title>\n",
      " </head>\n",
      " <body>\n",
      "  <div align=\"middle\">\n",
      "   <h1>\n",
      "    HTML Webpage\n",
      "   </h1>\n",
      "   <p>\n",
      "    Link to more interesting example:\n",
      "    <a href=\"https://keithgalli.github.io/web-scraping/webpage.html\">\n",
      "     keithgalli.github.io/web-scraping/webpage.html\n",
      "    </a>\n",
      "   </p>\n",
      "  </div>\n",
      "  <h2>\n",
      "   A Header\n",
      "  </h2>\n",
      "  <p>\n",
      "   <i>\n",
      "    Some italicized text\n",
      "   </i>\n",
      "  </p>\n",
      "  <h2>\n",
      "   Another header\n",
      "  </h2>\n",
      "  <p id=\"paragraph-id\">\n",
      "   <b>\n",
      "    Some bold text\n",
      "   </b>\n",
      "  </p>\n",
      " </body>\n",
      "</html>\n",
      "\n"
     ]
    }
   ],
   "source": [
    "print(soup.prettify())"
   ]
  },
  {
   "cell_type": "markdown",
   "metadata": {},
   "source": [
    "## Start Using Beautiful Soup Library to Scrape"
   ]
  },
  {
   "cell_type": "markdown",
   "metadata": {},
   "source": [
    "###  find And find_all"
   ]
  },
  {
   "cell_type": "code",
   "execution_count": 7,
   "metadata": {},
   "outputs": [],
   "source": [
    "first_header = soup.find('h2') # return FIRST h2 Tag."
   ]
  },
  {
   "cell_type": "code",
   "execution_count": 8,
   "metadata": {},
   "outputs": [
    {
     "data": {
      "text/plain": [
       "<h2>A Header</h2>"
      ]
     },
     "execution_count": 8,
     "metadata": {},
     "output_type": "execute_result"
    }
   ],
   "source": [
    "first_header"
   ]
  },
  {
   "cell_type": "code",
   "execution_count": 9,
   "metadata": {},
   "outputs": [],
   "source": [
    "headers = soup.find_all('h2') # returns list of ALL THE h2 tags present in the web Page."
   ]
  },
  {
   "cell_type": "code",
   "execution_count": 10,
   "metadata": {},
   "outputs": [
    {
     "data": {
      "text/plain": [
       "[<h2>A Header</h2>, <h2>Another header</h2>]"
      ]
     },
     "execution_count": 10,
     "metadata": {},
     "output_type": "execute_result"
    }
   ],
   "source": [
    "headers"
   ]
  },
  {
   "cell_type": "code",
   "execution_count": 11,
   "metadata": {},
   "outputs": [],
   "source": [
    "# Passing A List Of Elements to Look For."
   ]
  },
  {
   "cell_type": "code",
   "execution_count": 12,
   "metadata": {},
   "outputs": [],
   "source": [
    "first_header = soup.find(['h1','h2']) # returns the first occurence of any of the tags passed in the list."
   ]
  },
  {
   "cell_type": "code",
   "execution_count": 13,
   "metadata": {},
   "outputs": [
    {
     "data": {
      "text/plain": [
       "<h1>HTML Webpage</h1>"
      ]
     },
     "execution_count": 13,
     "metadata": {},
     "output_type": "execute_result"
    }
   ],
   "source": [
    "first_header"
   ]
  },
  {
   "cell_type": "code",
   "execution_count": 14,
   "metadata": {},
   "outputs": [],
   "source": [
    "headers = soup.find_all(['h1','h2']) # returns the list of all the occurences of the tags passed in the list."
   ]
  },
  {
   "cell_type": "code",
   "execution_count": 15,
   "metadata": {},
   "outputs": [
    {
     "data": {
      "text/plain": [
       "[<h1>HTML Webpage</h1>, <h2>A Header</h2>, <h2>Another header</h2>]"
      ]
     },
     "execution_count": 15,
     "metadata": {},
     "output_type": "execute_result"
    }
   ],
   "source": [
    "headers"
   ]
  },
  {
   "cell_type": "code",
   "execution_count": 16,
   "metadata": {},
   "outputs": [],
   "source": [
    "# Passing Attributes to find and find_all functions"
   ]
  },
  {
   "cell_type": "code",
   "execution_count": 17,
   "metadata": {},
   "outputs": [],
   "source": [
    "paragraph = soup.find_all('p') # returns a list of all the 'p' tags present in the web page."
   ]
  },
  {
   "cell_type": "code",
   "execution_count": 18,
   "metadata": {},
   "outputs": [
    {
     "data": {
      "text/plain": [
       "[<p>Link to more interesting example: <a href=\"https://keithgalli.github.io/web-scraping/webpage.html\">keithgalli.github.io/web-scraping/webpage.html</a></p>,\n",
       " <p><i>Some italicized text</i></p>,\n",
       " <p id=\"paragraph-id\"><b>Some bold text</b></p>]"
      ]
     },
     "execution_count": 18,
     "metadata": {},
     "output_type": "execute_result"
    }
   ],
   "source": [
    "paragraph"
   ]
  },
  {
   "cell_type": "code",
   "execution_count": 19,
   "metadata": {},
   "outputs": [],
   "source": [
    "paragraph = soup.find_all('p',attrs={'id':'paragraph-id'}) # return list of 'p' tags or tag which have the id 'paragraph-id'"
   ]
  },
  {
   "cell_type": "code",
   "execution_count": 20,
   "metadata": {},
   "outputs": [
    {
     "data": {
      "text/plain": [
       "[<p id=\"paragraph-id\"><b>Some bold text</b></p>]"
      ]
     },
     "execution_count": 20,
     "metadata": {},
     "output_type": "execute_result"
    }
   ],
   "source": [
    "paragraph"
   ]
  },
  {
   "cell_type": "code",
   "execution_count": 21,
   "metadata": {},
   "outputs": [],
   "source": [
    "# One can NEST find and find_all calls."
   ]
  },
  {
   "cell_type": "code",
   "execution_count": 22,
   "metadata": {},
   "outputs": [],
   "source": [
    "body = soup.find('body') "
   ]
  },
  {
   "cell_type": "code",
   "execution_count": 23,
   "metadata": {},
   "outputs": [
    {
     "data": {
      "text/plain": [
       "<body>\n",
       "<div align=\"middle\">\n",
       "<h1>HTML Webpage</h1>\n",
       "<p>Link to more interesting example: <a href=\"https://keithgalli.github.io/web-scraping/webpage.html\">keithgalli.github.io/web-scraping/webpage.html</a></p>\n",
       "</div>\n",
       "<h2>A Header</h2>\n",
       "<p><i>Some italicized text</i></p>\n",
       "<h2>Another header</h2>\n",
       "<p id=\"paragraph-id\"><b>Some bold text</b></p>\n",
       "</body>"
      ]
     },
     "execution_count": 23,
     "metadata": {},
     "output_type": "execute_result"
    }
   ],
   "source": [
    "body"
   ]
  },
  {
   "cell_type": "code",
   "execution_count": 24,
   "metadata": {},
   "outputs": [],
   "source": [
    "# we only want div from the body."
   ]
  },
  {
   "cell_type": "code",
   "execution_count": 25,
   "metadata": {},
   "outputs": [],
   "source": [
    "div = body.find('div')"
   ]
  },
  {
   "cell_type": "code",
   "execution_count": 26,
   "metadata": {},
   "outputs": [
    {
     "data": {
      "text/plain": [
       "<div align=\"middle\">\n",
       "<h1>HTML Webpage</h1>\n",
       "<p>Link to more interesting example: <a href=\"https://keithgalli.github.io/web-scraping/webpage.html\">keithgalli.github.io/web-scraping/webpage.html</a></p>\n",
       "</div>"
      ]
     },
     "execution_count": 26,
     "metadata": {},
     "output_type": "execute_result"
    }
   ],
   "source": [
    "div"
   ]
  },
  {
   "cell_type": "code",
   "execution_count": 27,
   "metadata": {},
   "outputs": [],
   "source": [
    "# getting header from the div "
   ]
  },
  {
   "cell_type": "code",
   "execution_count": 28,
   "metadata": {},
   "outputs": [],
   "source": [
    "head = div.find_all('h1')"
   ]
  },
  {
   "cell_type": "code",
   "execution_count": 29,
   "metadata": {},
   "outputs": [
    {
     "data": {
      "text/plain": [
       "[<h1>HTML Webpage</h1>]"
      ]
     },
     "execution_count": 29,
     "metadata": {},
     "output_type": "execute_result"
    }
   ],
   "source": [
    "head"
   ]
  },
  {
   "cell_type": "code",
   "execution_count": null,
   "metadata": {},
   "outputs": [],
   "source": []
  },
  {
   "cell_type": "code",
   "execution_count": 30,
   "metadata": {},
   "outputs": [],
   "source": [
    "# searching string from the web page"
   ]
  },
  {
   "cell_type": "code",
   "execution_count": 31,
   "metadata": {},
   "outputs": [],
   "source": [
    "string_search = soup.find_all(\"p\", string=\"Some bold text\")"
   ]
  },
  {
   "cell_type": "code",
   "execution_count": 32,
   "metadata": {},
   "outputs": [
    {
     "data": {
      "text/plain": [
       "[<p id=\"paragraph-id\"><b>Some bold text</b></p>]"
      ]
     },
     "execution_count": 32,
     "metadata": {},
     "output_type": "execute_result"
    }
   ],
   "source": [
    "string_search"
   ]
  },
  {
   "cell_type": "markdown",
   "metadata": {},
   "source": [
    "## select (CSS selector)"
   ]
  },
  {
   "cell_type": "code",
   "execution_count": 33,
   "metadata": {},
   "outputs": [],
   "source": [
    "content = soup.select('p') # Little bit similar to find_all method"
   ]
  },
  {
   "cell_type": "code",
   "execution_count": 34,
   "metadata": {},
   "outputs": [
    {
     "data": {
      "text/plain": [
       "[<p>Link to more interesting example: <a href=\"https://keithgalli.github.io/web-scraping/webpage.html\">keithgalli.github.io/web-scraping/webpage.html</a></p>,\n",
       " <p><i>Some italicized text</i></p>,\n",
       " <p id=\"paragraph-id\"><b>Some bold text</b></p>]"
      ]
     },
     "execution_count": 34,
     "metadata": {},
     "output_type": "execute_result"
    }
   ],
   "source": [
    "content"
   ]
  },
  {
   "cell_type": "code",
   "execution_count": 35,
   "metadata": {},
   "outputs": [],
   "source": [
    "content = soup.select(\"div p\") # returns first p after div tag"
   ]
  },
  {
   "cell_type": "code",
   "execution_count": 36,
   "metadata": {},
   "outputs": [
    {
     "data": {
      "text/plain": [
       "[<p>Link to more interesting example: <a href=\"https://keithgalli.github.io/web-scraping/webpage.html\">keithgalli.github.io/web-scraping/webpage.html</a></p>]"
      ]
     },
     "execution_count": 36,
     "metadata": {},
     "output_type": "execute_result"
    }
   ],
   "source": [
    "content"
   ]
  },
  {
   "cell_type": "code",
   "execution_count": 37,
   "metadata": {},
   "outputs": [
    {
     "data": {
      "text/plain": [
       "'\\nPlease refer to \\nhttps://www.w3schools.com/cssref/css_selectors.asp\\nto know more selectors and about them.\\n\\n'"
      ]
     },
     "execution_count": 37,
     "metadata": {},
     "output_type": "execute_result"
    }
   ],
   "source": [
    "\"\"\"\n",
    "Please refer to \n",
    "https://www.w3schools.com/cssref/css_selectors.asp\n",
    "to know more selectors and about them.\n",
    "\n",
    "\"\"\""
   ]
  },
  {
   "cell_type": "markdown",
   "metadata": {},
   "source": [
    "## Getting different properties of the HTML"
   ]
  },
  {
   "cell_type": "code",
   "execution_count": 38,
   "metadata": {},
   "outputs": [],
   "source": [
    "# getting text from a h2 tag."
   ]
  },
  {
   "cell_type": "code",
   "execution_count": 39,
   "metadata": {},
   "outputs": [],
   "source": [
    "header = soup.find('h2')"
   ]
  },
  {
   "cell_type": "code",
   "execution_count": 40,
   "metadata": {},
   "outputs": [
    {
     "data": {
      "text/plain": [
       "<h2>A Header</h2>"
      ]
     },
     "execution_count": 40,
     "metadata": {},
     "output_type": "execute_result"
    }
   ],
   "source": [
    "header"
   ]
  },
  {
   "cell_type": "code",
   "execution_count": 41,
   "metadata": {},
   "outputs": [],
   "source": [
    "header = soup.find('h2').text"
   ]
  },
  {
   "cell_type": "code",
   "execution_count": 42,
   "metadata": {},
   "outputs": [
    {
     "data": {
      "text/plain": [
       "'A Header'"
      ]
     },
     "execution_count": 42,
     "metadata": {},
     "output_type": "execute_result"
    }
   ],
   "source": [
    "header"
   ]
  },
  {
   "cell_type": "code",
   "execution_count": 43,
   "metadata": {},
   "outputs": [],
   "source": [
    "# or you can do\n",
    "header = soup.find('h2')"
   ]
  },
  {
   "cell_type": "code",
   "execution_count": 44,
   "metadata": {},
   "outputs": [
    {
     "data": {
      "text/plain": [
       "<h2>A Header</h2>"
      ]
     },
     "execution_count": 44,
     "metadata": {},
     "output_type": "execute_result"
    }
   ],
   "source": [
    "header"
   ]
  },
  {
   "cell_type": "code",
   "execution_count": 45,
   "metadata": {},
   "outputs": [],
   "source": [
    "header = soup.find('h2')"
   ]
  },
  {
   "cell_type": "code",
   "execution_count": 46,
   "metadata": {},
   "outputs": [
    {
     "data": {
      "text/plain": [
       "'A Header'"
      ]
     },
     "execution_count": 46,
     "metadata": {},
     "output_type": "execute_result"
    }
   ],
   "source": [
    "header.string"
   ]
  },
  {
   "cell_type": "code",
   "execution_count": 47,
   "metadata": {},
   "outputs": [],
   "source": [
    "div  = soup.find('div')"
   ]
  },
  {
   "cell_type": "code",
   "execution_count": 48,
   "metadata": {},
   "outputs": [
    {
     "data": {
      "text/plain": [
       "<div align=\"middle\">\n",
       "<h1>HTML Webpage</h1>\n",
       "<p>Link to more interesting example: <a href=\"https://keithgalli.github.io/web-scraping/webpage.html\">keithgalli.github.io/web-scraping/webpage.html</a></p>\n",
       "</div>"
      ]
     },
     "execution_count": 48,
     "metadata": {},
     "output_type": "execute_result"
    }
   ],
   "source": [
    "div"
   ]
  },
  {
   "cell_type": "code",
   "execution_count": 49,
   "metadata": {},
   "outputs": [],
   "source": [
    "div = soup.find('div')\n",
    "div.string # .string methods will return nothing because .string div tag has multiple childs."
   ]
  },
  {
   "cell_type": "code",
   "execution_count": 50,
   "metadata": {},
   "outputs": [
    {
     "name": "stdout",
     "output_type": "stream",
     "text": [
      "\n",
      "HTML Webpage\n",
      "Link to more interesting example: keithgalli.github.io/web-scraping/webpage.html\n",
      "\n"
     ]
    }
   ],
   "source": [
    "print(div.get_text()) "
   ]
  },
  {
   "cell_type": "code",
   "execution_count": 51,
   "metadata": {},
   "outputs": [],
   "source": [
    "# if multiple child use get_text() otherwise use .string"
   ]
  },
  {
   "cell_type": "markdown",
   "metadata": {},
   "source": [
    "## Getting Specific Property From A Element."
   ]
  },
  {
   "cell_type": "code",
   "execution_count": 52,
   "metadata": {},
   "outputs": [],
   "source": [
    "link = soup.find('a')"
   ]
  },
  {
   "cell_type": "code",
   "execution_count": 53,
   "metadata": {},
   "outputs": [
    {
     "data": {
      "text/plain": [
       "'https://keithgalli.github.io/web-scraping/webpage.html'"
      ]
     },
     "execution_count": 53,
     "metadata": {},
     "output_type": "execute_result"
    }
   ],
   "source": [
    "link['href']"
   ]
  },
  {
   "cell_type": "markdown",
   "metadata": {},
   "source": [
    "### Code Navigation"
   ]
  },
  {
   "cell_type": "code",
   "execution_count": 54,
   "metadata": {},
   "outputs": [],
   "source": [
    "# Know The Terms\n",
    "# 1: Parent\n",
    "# 2: Child\n",
    "# 3: Sibling\n",
    "\n",
    "# Sibling -: When Attributes are on the same level they are know as siblings.\n",
    "# Child and Parent -: If a attribute is on the below level of an element , then the element on the lower level is known as child of the \n",
    "# element on the higher level, and the element on the higher level is known as the Parent of the child element.\n"
   ]
  },
  {
   "cell_type": "code",
   "execution_count": 55,
   "metadata": {},
   "outputs": [],
   "source": [
    "sib = soup.find('div').find_next_siblings() # returns a list of all the siblings of 'div' tag."
   ]
  },
  {
   "cell_type": "code",
   "execution_count": 56,
   "metadata": {},
   "outputs": [
    {
     "data": {
      "text/plain": [
       "[<h2>A Header</h2>,\n",
       " <p><i>Some italicized text</i></p>,\n",
       " <h2>Another header</h2>,\n",
       " <p id=\"paragraph-id\"><b>Some bold text</b></p>]"
      ]
     },
     "execution_count": 56,
     "metadata": {},
     "output_type": "execute_result"
    }
   ],
   "source": [
    "sib"
   ]
  },
  {
   "cell_type": "markdown",
   "metadata": {},
   "source": [
    "# Excercise"
   ]
  },
  {
   "cell_type": "code",
   "execution_count": 57,
   "metadata": {},
   "outputs": [],
   "source": [
    "# Load The Webpage.\n",
    "# Task 1 -: TO get all the social media links from the webpage.(Using 3 diffrent ways.)"
   ]
  },
  {
   "cell_type": "code",
   "execution_count": 58,
   "metadata": {},
   "outputs": [],
   "source": [
    "web = requests.get('https://keithgalli.github.io/web-scraping/webpage.html')"
   ]
  },
  {
   "cell_type": "code",
   "execution_count": 59,
   "metadata": {},
   "outputs": [],
   "source": [
    "soup = bs(web.content)"
   ]
  },
  {
   "cell_type": "code",
   "execution_count": 60,
   "metadata": {},
   "outputs": [
    {
     "name": "stdout",
     "output_type": "stream",
     "text": [
      "<head>\n",
      " <title>\n",
      "  Keith Galli's Page\n",
      " </title>\n",
      " <style>\n",
      "  table {\n",
      "    border-collapse: collapse;\n",
      "  }\n",
      "  th {\n",
      "    padding:5px;\n",
      "  }\n",
      "  td {\n",
      "    border: 1px solid #ddd;\n",
      "    padding: 5px;\n",
      "  }\n",
      "  tr:nth-child(even) {\n",
      "    background-color: #f2f2f2;\n",
      "  }\n",
      "  th {\n",
      "    padding-top: 12px;\n",
      "    padding-bottom: 12px;\n",
      "    text-align: left;\n",
      "    background-color: #add8e6;\n",
      "    color: black;\n",
      "  }\n",
      "  .block {\n",
      "  width: 100px;\n",
      "  /*float: left;*/\n",
      "    display: inline-block;\n",
      "    zoom: 1;\n",
      "  }\n",
      "  .column {\n",
      "  float: left;\n",
      "  height: 200px;\n",
      "  /*width: 33.33%;*/\n",
      "  padding: 5px;\n",
      "  }\n",
      "\n",
      "  .row::after {\n",
      "    content: \"\";\n",
      "    clear: both;\n",
      "    display: table;\n",
      "  }\n",
      " </style>\n",
      "</head>\n",
      "<body>\n",
      " <h1>\n",
      "  Welcome to my page!\n",
      " </h1>\n",
      " <img src=\"./images/selfie1.jpg\" width=\"300px\"/>\n",
      " <h2>\n",
      "  About me\n",
      " </h2>\n",
      " <p>\n",
      "  Hi, my name is Keith and I am a YouTuber who focuses on content related to programming, data science, and machine learning!\n",
      " </p>\n",
      " <p>\n",
      "  Here is a link to my channel:\n",
      "  <a href=\"https://www.youtube.com/kgmit\">\n",
      "   youtube.com/kgmit\n",
      "  </a>\n",
      " </p>\n",
      " <p>\n",
      "  I grew up in the great state of New Hampshire here in the USA. From an early age I always loved math. Around my senior year of high school, my brother first introduced me to programming. I found it a creative way to apply the same type of logical thinking skills that I enjoyed with math. This influenced me to study computer science in college and ultimately create a YouTube channel to share some things that I have learned along the way.\n",
      " </p>\n",
      " <h3>\n",
      "  Hobbies\n",
      " </h3>\n",
      " <p>\n",
      "  Believe it or not, I don't code 24/7. I love doing all sorts of active things. I like to play ice hockey &amp; table tennis as well as run, hike, skateboard, and snowboard. In addition to sports, I am a board game enthusiast. The two that I've been playing the most recently are\n",
      "  <i>\n",
      "   Settlers of Catan\n",
      "  </i>\n",
      "  and\n",
      "  <i>\n",
      "   Othello\n",
      "  </i>\n",
      "  .\n",
      " </p>\n",
      " <h3>\n",
      "  Fun Facts\n",
      " </h3>\n",
      " <ul class=\"fun-facts\">\n",
      "  <li>\n",
      "   Owned my dream car in high school\n",
      "   <a href=\"#footer\">\n",
      "    <sup>\n",
      "     1\n",
      "    </sup>\n",
      "   </a>\n",
      "  </li>\n",
      "  <li>\n",
      "   Middle name is Ronald\n",
      "  </li>\n",
      "  <li>\n",
      "   Never had been on a plane until college\n",
      "  </li>\n",
      "  <li>\n",
      "   Dunkin Donuts coffee is better than Starbucks\n",
      "  </li>\n",
      "  <li>\n",
      "   A favorite book series of mine is\n",
      "   <i>\n",
      "    Ender's Game\n",
      "   </i>\n",
      "  </li>\n",
      "  <li>\n",
      "   Current video game of choice is\n",
      "   <i>\n",
      "    Rocket League\n",
      "   </i>\n",
      "  </li>\n",
      "  <li>\n",
      "   The band that I've seen the most times live is the\n",
      "   <i>\n",
      "    Zac Brown Band\n",
      "   </i>\n",
      "  </li>\n",
      " </ul>\n",
      " <h2>\n",
      "  Social Media\n",
      " </h2>\n",
      " I encourage you to check out my content on all social media platforms\n",
      " <br/>\n",
      " <ul class=\"socials\">\n",
      "  <li class=\"social instagram\">\n",
      "   <b>\n",
      "    Instagram:\n",
      "   </b>\n",
      "   <a href=\"https://www.instagram.com/keithgalli/\">\n",
      "    https://www.instagram.com/keithgalli/\n",
      "   </a>\n",
      "  </li>\n",
      "  <li class=\"social twitter\">\n",
      "   <b>\n",
      "    Twitter:\n",
      "   </b>\n",
      "   <a href=\"https://twitter.com/keithgalli\">\n",
      "    https://twitter.com/keithgalli\n",
      "   </a>\n",
      "  </li>\n",
      "  <li class=\"social linkedin\">\n",
      "   <b>\n",
      "    LinkedIn:\n",
      "   </b>\n",
      "   <a href=\"https://www.linkedin.com/in/keithgalli/\">\n",
      "    https://www.linkedin.com/in/keithgalli/\n",
      "   </a>\n",
      "  </li>\n",
      "  <li class=\"social tiktok\">\n",
      "   <b>\n",
      "    TikTok:\n",
      "   </b>\n",
      "   <a href=\"https://www.tiktok.com/@keithgalli\">\n",
      "    https://www.tiktok.com/@keithgalli\n",
      "   </a>\n",
      "  </li>\n",
      " </ul>\n",
      " <h2>\n",
      "  Photos\n",
      " </h2>\n",
      " Here are a few photos from a trip to italy I took last year\n",
      " <div class=\"row\">\n",
      "  <div class=\"column\">\n",
      "   <img alt=\"Lake Como\" src=\"images/italy/lake_como.jpg\" style=\"height:100%\"/>\n",
      "  </div>\n",
      "  <div class=\"column\">\n",
      "   <img alt=\"Pontevecchio, Florence\" src=\"images/italy/pontevecchio.jpg\" style=\"height:100%\"/>\n",
      "  </div>\n",
      "  <div class=\"column\">\n",
      "   <img alt=\"Riomaggiore, Cinque de Terre\" src=\"images/italy/riomaggiore.jpg\" style=\"height:100%\"/>\n",
      "  </div>\n",
      " </div>\n",
      " <div>\n",
      " </div>\n",
      " <h2>\n",
      "  Table\n",
      " </h2>\n",
      " My MIT hockey stats :)\n",
      " <br/>\n",
      " <table class=\"hockey-stats\">\n",
      "  <thead>\n",
      "   <tr>\n",
      "    <th class=\"season\" data-sort=\"\">\n",
      "     S\n",
      "    </th>\n",
      "    <th class=\"team\" data-sort=\"team\">\n",
      "     Team\n",
      "    </th>\n",
      "    <th class=\"league\" data-sort=\"league\">\n",
      "     League\n",
      "    </th>\n",
      "    <th class=\"regular gp\" data-sort=\"gp\">\n",
      "     GP\n",
      "    </th>\n",
      "    <th class=\"regular g\" data-sort=\"g\">\n",
      "     G\n",
      "    </th>\n",
      "    <th class=\"regular a\" data-sort=\"a\">\n",
      "     A\n",
      "    </th>\n",
      "    <th class=\"regular tp\" data-sort=\"tp\">\n",
      "     TP\n",
      "    </th>\n",
      "    <th class=\"regular pim\" data-sort=\"pim\">\n",
      "     PIM\n",
      "    </th>\n",
      "    <th class=\"regular pm\" data-sort=\"pm\">\n",
      "     +/-\n",
      "    </th>\n",
      "    <th class=\"separator\">\n",
      "    </th>\n",
      "    <th class=\"postseason\">\n",
      "     POST\n",
      "    </th>\n",
      "    <th class=\"postseason gp\" data-sort=\"playoffs-gp\">\n",
      "     GP\n",
      "    </th>\n",
      "    <th class=\"postseason g\" data-sort=\"playoffs-g\">\n",
      "     G\n",
      "    </th>\n",
      "    <th class=\"postseason a\" data-sort=\"playoffs-a\">\n",
      "     A\n",
      "    </th>\n",
      "    <th class=\"postseason tp\" data-sort=\"playoffs-tp\">\n",
      "     TP\n",
      "    </th>\n",
      "    <th class=\"postseason pim\" data-sort=\"playoffs-pim\">\n",
      "     PIM\n",
      "    </th>\n",
      "    <th class=\"postseason pm\" data-sort=\"playoffs-pm\">\n",
      "     +/-\n",
      "    </th>\n",
      "   </tr>\n",
      "  </thead>\n",
      "  <tbody>\n",
      "   <tr class=\"team-continent-NA\">\n",
      "    <td class=\"season sorted\">\n",
      "     2014-15\n",
      "    </td>\n",
      "    <td class=\"team\">\n",
      "     <i>\n",
      "      <img src=\"images/flag.png\"/>\n",
      "     </i>\n",
      "     <span class=\"txt-blue\">\n",
      "      <a href=\"https://www.eliteprospects.com/team/10263/mit-mass.-inst.-of-tech./2014-2015?tab=stats\">\n",
      "       MIT (Mass. Inst. of Tech.)\n",
      "      </a>\n",
      "     </span>\n",
      "    </td>\n",
      "    <td class=\"league\">\n",
      "     <a href=\"https://www.eliteprospects.com/league/acha-ii/stats/2014-2015\">\n",
      "      ACHA II\n",
      "     </a>\n",
      "    </td>\n",
      "    <td class=\"regular gp\">\n",
      "     17\n",
      "    </td>\n",
      "    <td class=\"regular g\">\n",
      "     3\n",
      "    </td>\n",
      "    <td class=\"regular a\">\n",
      "     9\n",
      "    </td>\n",
      "    <td class=\"regular tp\">\n",
      "     12\n",
      "    </td>\n",
      "    <td class=\"regular pim\">\n",
      "     20\n",
      "    </td>\n",
      "    <td class=\"regular pm\">\n",
      "    </td>\n",
      "    <td class=\"separator\">\n",
      "     |\n",
      "    </td>\n",
      "    <td class=\"postseason\">\n",
      "     <a href=\"https://www.eliteprospects.com/league/acha-ii/stats/2014-2015\">\n",
      "     </a>\n",
      "    </td>\n",
      "    <td class=\"postseason gp\">\n",
      "    </td>\n",
      "    <td class=\"postseason g\">\n",
      "    </td>\n",
      "    <td class=\"postseason a\">\n",
      "    </td>\n",
      "    <td class=\"postseason tp\">\n",
      "    </td>\n",
      "    <td class=\"postseason pim\">\n",
      "    </td>\n",
      "    <td class=\"postseason pm\">\n",
      "    </td>\n",
      "   </tr>\n",
      "   <tr class=\"team-continent-NA\">\n",
      "    <td class=\"season sorted\">\n",
      "     2015-16\n",
      "    </td>\n",
      "    <td class=\"team\">\n",
      "     <i>\n",
      "      <img src=\"images/flag.png\"/>\n",
      "     </i>\n",
      "     <span class=\"txt-blue\">\n",
      "      <a href=\"https://www.eliteprospects.com/team/10263/mit-mass.-inst.-of-tech./2015-2016?tab=stats\">\n",
      "       MIT (Mass. Inst. of Tech.)\n",
      "      </a>\n",
      "     </span>\n",
      "    </td>\n",
      "    <td class=\"league\">\n",
      "     <a href=\"https://www.eliteprospects.com/league/acha-ii/stats/2015-2016\">\n",
      "      ACHA II\n",
      "     </a>\n",
      "    </td>\n",
      "    <td class=\"regular gp\">\n",
      "     9\n",
      "    </td>\n",
      "    <td class=\"regular g\">\n",
      "     1\n",
      "    </td>\n",
      "    <td class=\"regular a\">\n",
      "     1\n",
      "    </td>\n",
      "    <td class=\"regular tp\">\n",
      "     2\n",
      "    </td>\n",
      "    <td class=\"regular pim\">\n",
      "     2\n",
      "    </td>\n",
      "    <td class=\"regular pm\">\n",
      "    </td>\n",
      "    <td class=\"separator\">\n",
      "     |\n",
      "    </td>\n",
      "    <td class=\"postseason\">\n",
      "     <a href=\"https://www.eliteprospects.com/league/acha-ii/stats/2015-2016\">\n",
      "     </a>\n",
      "    </td>\n",
      "    <td class=\"postseason gp\">\n",
      "    </td>\n",
      "    <td class=\"postseason g\">\n",
      "    </td>\n",
      "    <td class=\"postseason a\">\n",
      "    </td>\n",
      "    <td class=\"postseason tp\">\n",
      "    </td>\n",
      "    <td class=\"postseason pim\">\n",
      "    </td>\n",
      "    <td class=\"postseason pm\">\n",
      "    </td>\n",
      "   </tr>\n",
      "   <tr class=\"team-continent-NA\">\n",
      "    <td class=\"season sorted\">\n",
      "     2016-17\n",
      "    </td>\n",
      "    <td class=\"team\">\n",
      "     <i>\n",
      "      <img src=\"images/flag.png\"/>\n",
      "     </i>\n",
      "     <span class=\"txt-blue\">\n",
      "      <a href=\"https://www.eliteprospects.com/team/10263/mit-mass.-inst.-of-tech./2016-2017?tab=stats\">\n",
      "       MIT (Mass. Inst. of Tech.)\n",
      "      </a>\n",
      "     </span>\n",
      "    </td>\n",
      "    <td class=\"league\">\n",
      "     <a href=\"https://www.eliteprospects.com/league/acha-ii/stats/2016-2017\">\n",
      "      ACHA II\n",
      "     </a>\n",
      "    </td>\n",
      "    <td class=\"regular gp\">\n",
      "     12\n",
      "    </td>\n",
      "    <td class=\"regular g\">\n",
      "     5\n",
      "    </td>\n",
      "    <td class=\"regular a\">\n",
      "     5\n",
      "    </td>\n",
      "    <td class=\"regular tp\">\n",
      "     10\n",
      "    </td>\n",
      "    <td class=\"regular pim\">\n",
      "     8\n",
      "    </td>\n",
      "    <td class=\"regular pm\">\n",
      "     0\n",
      "    </td>\n",
      "    <td class=\"separator\">\n",
      "     |\n",
      "    </td>\n",
      "    <td class=\"postseason\">\n",
      "    </td>\n",
      "    <td class=\"postseason gp\">\n",
      "    </td>\n",
      "    <td class=\"postseason g\">\n",
      "    </td>\n",
      "    <td class=\"postseason a\">\n",
      "    </td>\n",
      "    <td class=\"postseason tp\">\n",
      "    </td>\n",
      "    <td class=\"postseason pim\">\n",
      "    </td>\n",
      "    <td class=\"postseason pm\">\n",
      "    </td>\n",
      "   </tr>\n",
      "   <tr class=\"team-continent-EU\">\n",
      "    <td class=\"season sorted\">\n",
      "     2017-18\n",
      "    </td>\n",
      "    <td class=\"team\">\n",
      "     Did not play\n",
      "    </td>\n",
      "    <td class=\"league\">\n",
      "     <a href=\"https://www.eliteprospects.com/stats\">\n",
      "     </a>\n",
      "    </td>\n",
      "    <td class=\"regular gp\">\n",
      "    </td>\n",
      "    <td class=\"regular g\">\n",
      "    </td>\n",
      "    <td class=\"regular a\">\n",
      "    </td>\n",
      "    <td class=\"regular tp\">\n",
      "    </td>\n",
      "    <td class=\"regular pim\">\n",
      "    </td>\n",
      "    <td class=\"regular pm\">\n",
      "    </td>\n",
      "    <td class=\"separator\">\n",
      "     |\n",
      "    </td>\n",
      "    <td class=\"postseason\">\n",
      "     <a href=\"https://www.eliteprospects.com/stats\">\n",
      "     </a>\n",
      "    </td>\n",
      "    <td class=\"postseason gp\">\n",
      "    </td>\n",
      "    <td class=\"postseason g\">\n",
      "    </td>\n",
      "    <td class=\"postseason a\">\n",
      "    </td>\n",
      "    <td class=\"postseason tp\">\n",
      "    </td>\n",
      "    <td class=\"postseason pim\">\n",
      "    </td>\n",
      "    <td class=\"postseason pm\">\n",
      "    </td>\n",
      "   </tr>\n",
      "   <tr class=\"team-continent-NA\">\n",
      "    <td class=\"season sorted\">\n",
      "     2018-19\n",
      "    </td>\n",
      "    <td class=\"team\">\n",
      "     <i>\n",
      "      <img src=\"images/flag.png\"/>\n",
      "     </i>\n",
      "     <span class=\"txt-blue\">\n",
      "      <a href=\"https://www.eliteprospects.com/team/10263/mit-mass.-inst.-of-tech./2018-2019?tab=stats\">\n",
      "       MIT (Mass. Inst. of Tech.)\n",
      "      </a>\n",
      "     </span>\n",
      "    </td>\n",
      "    <td class=\"league\">\n",
      "     <a href=\"https://www.eliteprospects.com/league/acha-iii/stats/2018-2019\">\n",
      "      ACHA III\n",
      "     </a>\n",
      "    </td>\n",
      "    <td class=\"regular gp\">\n",
      "     8\n",
      "    </td>\n",
      "    <td class=\"regular g\">\n",
      "     5\n",
      "    </td>\n",
      "    <td class=\"regular a\">\n",
      "     10\n",
      "    </td>\n",
      "    <td class=\"regular tp\">\n",
      "     15\n",
      "    </td>\n",
      "    <td class=\"regular pim\">\n",
      "     8\n",
      "    </td>\n",
      "    <td class=\"regular pm\">\n",
      "    </td>\n",
      "    <td class=\"separator\">\n",
      "     |\n",
      "    </td>\n",
      "    <td class=\"postseason\">\n",
      "     <a href=\"https://www.eliteprospects.com/league/acha-iii/stats/2018-2019\">\n",
      "     </a>\n",
      "    </td>\n",
      "    <td class=\"postseason gp\">\n",
      "    </td>\n",
      "    <td class=\"postseason g\">\n",
      "    </td>\n",
      "    <td class=\"postseason a\">\n",
      "    </td>\n",
      "    <td class=\"postseason tp\">\n",
      "    </td>\n",
      "    <td class=\"postseason pim\">\n",
      "    </td>\n",
      "    <td class=\"postseason pm\">\n",
      "    </td>\n",
      "   </tr>\n",
      "  </tbody>\n",
      " </table>\n",
      " <h2>\n",
      "  Mystery Message Challenge!\n",
      " </h2>\n",
      " <p>\n",
      "  If you scrape the links below grabbing the &lt;p&gt; tag with id=\"secret-word\", you'll discover a secret message :)\n",
      " </p>\n",
      " <div width=\"50%\">\n",
      "  <div align=\"left\" class=\"block\">\n",
      "   <ul>\n",
      "    <li>\n",
      "     <a href=\"challenge/file_1.html\">\n",
      "      File 1\n",
      "     </a>\n",
      "    </li>\n",
      "    <li>\n",
      "     <a href=\"challenge/file_2.html\">\n",
      "      File 2\n",
      "     </a>\n",
      "    </li>\n",
      "    <li>\n",
      "     <a href=\"challenge/file_3.html\">\n",
      "      File 3\n",
      "     </a>\n",
      "    </li>\n",
      "    <li>\n",
      "     <a href=\"challenge/file_4.html\">\n",
      "      File 4\n",
      "     </a>\n",
      "    </li>\n",
      "    <li>\n",
      "     <a href=\"challenge/file_5.html\">\n",
      "      File 5\n",
      "     </a>\n",
      "    </li>\n",
      "   </ul>\n",
      "  </div>\n",
      "  <div align=\"center\" class=\"block\">\n",
      "   <ul>\n",
      "    <li>\n",
      "     <a href=\"challenge/file_6.html\">\n",
      "      File 6\n",
      "     </a>\n",
      "    </li>\n",
      "    <li>\n",
      "     <a href=\"challenge/file_7.html\">\n",
      "      File 7\n",
      "     </a>\n",
      "    </li>\n",
      "    <li>\n",
      "     <a href=\"challenge/file_8.html\">\n",
      "      File 8\n",
      "     </a>\n",
      "    </li>\n",
      "    <li>\n",
      "     <a href=\"challenge/file_9.html\">\n",
      "      File 9\n",
      "     </a>\n",
      "    </li>\n",
      "    <li>\n",
      "     <a href=\"challenge/file_10.html\">\n",
      "      File 10\n",
      "     </a>\n",
      "    </li>\n",
      "   </ul>\n",
      "  </div>\n",
      " </div>\n",
      " <h2>\n",
      "  Footnotes\n",
      " </h2>\n",
      " <p id=\"footer\">\n",
      "  1. This was actually a minivan that I named Debora. Maybe not my dream car, but I loved her nonetheless.\n",
      " </p>\n",
      "</body>\n",
      "\n"
     ]
    }
   ],
   "source": [
    "print(soup.prettify())"
   ]
  },
  {
   "cell_type": "code",
   "execution_count": 61,
   "metadata": {},
   "outputs": [
    {
     "name": "stdout",
     "output_type": "stream",
     "text": [
      "https://www.instagram.com/keithgalli/\n",
      "https://twitter.com/keithgalli\n",
      "https://www.linkedin.com/in/keithgalli/\n",
      "https://www.tiktok.com/@keithgalli\n"
     ]
    }
   ],
   "source": [
    "# method 1\n",
    "for ul in soup.find_all('ul',class_=\"socials\"):\n",
    "\t    for li in ul.find_all('li'):\n",
    "\t\t    a = li.find('a')\n",
    "\t\t    print(a['href'])\n",
    "            "
   ]
  },
  {
   "cell_type": "code",
   "execution_count": 62,
   "metadata": {},
   "outputs": [],
   "source": [
    "# method 2"
   ]
  },
  {
   "cell_type": "code",
   "execution_count": 63,
   "metadata": {},
   "outputs": [
    {
     "name": "stdout",
     "output_type": "stream",
     "text": [
      "https://www.instagram.com/keithgalli/\n",
      "https://twitter.com/keithgalli\n",
      "https://www.linkedin.com/in/keithgalli/\n",
      "https://www.tiktok.com/@keithgalli\n"
     ]
    }
   ],
   "source": [
    "for i in soup.select('ul.socials a[href^=\"https\"]'):\n",
    "    print(i['href'])"
   ]
  },
  {
   "cell_type": "code",
   "execution_count": 64,
   "metadata": {},
   "outputs": [],
   "source": [
    "# Method 3"
   ]
  },
  {
   "cell_type": "code",
   "execution_count": 65,
   "metadata": {},
   "outputs": [],
   "source": [
    "li = soup.find('li',class_=\"social instagram\")\n",
    "anchor = li.find('a')"
   ]
  },
  {
   "cell_type": "code",
   "execution_count": 66,
   "metadata": {},
   "outputs": [],
   "source": [
    "insta  = anchor[\"href\"]"
   ]
  },
  {
   "cell_type": "code",
   "execution_count": 67,
   "metadata": {},
   "outputs": [],
   "source": [
    "li = soup.find('li',class_=\"social twitter\")"
   ]
  },
  {
   "cell_type": "code",
   "execution_count": 68,
   "metadata": {},
   "outputs": [],
   "source": [
    "anchor = li.find('a')"
   ]
  },
  {
   "cell_type": "code",
   "execution_count": 69,
   "metadata": {},
   "outputs": [
    {
     "data": {
      "text/plain": [
       "'https://twitter.com/keithgalli'"
      ]
     },
     "execution_count": 69,
     "metadata": {},
     "output_type": "execute_result"
    }
   ],
   "source": [
    "anchor['href'] #TWITTER "
   ]
  },
  {
   "cell_type": "code",
   "execution_count": 70,
   "metadata": {},
   "outputs": [],
   "source": [
    "# linkedIn \n",
    "li = soup.find('li',class_=\"social linkedin\")"
   ]
  },
  {
   "cell_type": "code",
   "execution_count": 71,
   "metadata": {},
   "outputs": [],
   "source": [
    "anchor = li.find('a')"
   ]
  },
  {
   "cell_type": "code",
   "execution_count": 72,
   "metadata": {},
   "outputs": [
    {
     "data": {
      "text/plain": [
       "'https://www.linkedin.com/in/keithgalli/'"
      ]
     },
     "execution_count": 72,
     "metadata": {},
     "output_type": "execute_result"
    }
   ],
   "source": [
    "anchor['href']"
   ]
  },
  {
   "cell_type": "code",
   "execution_count": 73,
   "metadata": {},
   "outputs": [],
   "source": [
    "# tik tok"
   ]
  },
  {
   "cell_type": "code",
   "execution_count": 74,
   "metadata": {},
   "outputs": [],
   "source": [
    "li = soup.find('li',class_='social tiktok')"
   ]
  },
  {
   "cell_type": "code",
   "execution_count": 75,
   "metadata": {},
   "outputs": [],
   "source": [
    "anchor = li.find('a')"
   ]
  },
  {
   "cell_type": "code",
   "execution_count": 76,
   "metadata": {},
   "outputs": [
    {
     "data": {
      "text/plain": [
       "'https://www.tiktok.com/@keithgalli'"
      ]
     },
     "execution_count": 76,
     "metadata": {},
     "output_type": "execute_result"
    }
   ],
   "source": [
    "anchor['href']"
   ]
  },
  {
   "cell_type": "code",
   "execution_count": 77,
   "metadata": {},
   "outputs": [],
   "source": [
    "# TASK 2 Scrape the table that is present on the webpage."
   ]
  },
  {
   "cell_type": "code",
   "execution_count": 78,
   "metadata": {},
   "outputs": [],
   "source": [
    "table = soup.select('table',class_=\"hockey-stats\")[0]\n",
    "columns = table.find('thead').find_all('th')\n",
    "column_name = []\n",
    "for i in columns:\n",
    "    column_name.append(i.text)"
   ]
  },
  {
   "cell_type": "code",
   "execution_count": 79,
   "metadata": {},
   "outputs": [],
   "source": [
    "table_rows = table.find(\"tbody\").find_all('tr')"
   ]
  },
  {
   "cell_type": "code",
   "execution_count": 80,
   "metadata": {},
   "outputs": [],
   "source": [
    "row = []\n",
    "for j in table_rows:\n",
    "    row.append(str(j.get_text().strip()))"
   ]
  },
  {
   "cell_type": "code",
   "execution_count": 81,
   "metadata": {},
   "outputs": [
    {
     "data": {
      "text/plain": [
       "['2014-15\\n              \\n\\n\\n\\n MIT (Mass. Inst. of Tech.) \\n\\n\\n  ACHA II  \\n17\\n3\\n9\\n12\\n20\\n\\n |',\n",
       " '2015-16\\n              \\n\\n\\n\\n MIT (Mass. Inst. of Tech.) \\n\\n\\n  ACHA II  \\n9\\n1\\n1\\n2\\n2\\n\\n |',\n",
       " '2016-17\\n              \\n\\n\\n\\n MIT (Mass. Inst. of Tech.) \\n\\n\\n  ACHA II  \\n12\\n5\\n5\\n10\\n8\\n0\\n |',\n",
       " '2017-18\\n              \\n\\n                  Did not play\\n              \\n   \\n\\n\\n\\n\\n\\n\\n |',\n",
       " '2018-19\\n              \\n\\n\\n\\n MIT (Mass. Inst. of Tech.) \\n\\n\\n  ACHA III  \\n8\\n5\\n10\\n15\\n8\\n\\n |']"
      ]
     },
     "execution_count": 81,
     "metadata": {},
     "output_type": "execute_result"
    }
   ],
   "source": [
    "row"
   ]
  },
  {
   "cell_type": "code",
   "execution_count": 82,
   "metadata": {},
   "outputs": [
    {
     "ename": "ValueError",
     "evalue": "Shape of passed values is (5, 1), indices imply (5, 17)",
     "output_type": "error",
     "traceback": [
      "\u001b[1;31m---------------------------------------------------------------------------\u001b[0m",
      "\u001b[1;31mValueError\u001b[0m                                Traceback (most recent call last)",
      "\u001b[1;32mc:\\users\\dell\\appdata\\local\\programs\\python\\python38-32\\lib\\site-packages\\pandas\\core\\internals\\managers.py\u001b[0m in \u001b[0;36mcreate_block_manager_from_blocks\u001b[1;34m(blocks, axes)\u001b[0m\n\u001b[0;32m   1670\u001b[0m                 blocks = [\n\u001b[1;32m-> 1671\u001b[1;33m                     \u001b[0mmake_block\u001b[0m\u001b[1;33m(\u001b[0m\u001b[0mvalues\u001b[0m\u001b[1;33m=\u001b[0m\u001b[0mblocks\u001b[0m\u001b[1;33m[\u001b[0m\u001b[1;36m0\u001b[0m\u001b[1;33m]\u001b[0m\u001b[1;33m,\u001b[0m \u001b[0mplacement\u001b[0m\u001b[1;33m=\u001b[0m\u001b[0mslice\u001b[0m\u001b[1;33m(\u001b[0m\u001b[1;36m0\u001b[0m\u001b[1;33m,\u001b[0m \u001b[0mlen\u001b[0m\u001b[1;33m(\u001b[0m\u001b[0maxes\u001b[0m\u001b[1;33m[\u001b[0m\u001b[1;36m0\u001b[0m\u001b[1;33m]\u001b[0m\u001b[1;33m)\u001b[0m\u001b[1;33m)\u001b[0m\u001b[1;33m)\u001b[0m\u001b[1;33m\u001b[0m\u001b[1;33m\u001b[0m\u001b[0m\n\u001b[0m\u001b[0;32m   1672\u001b[0m                 ]\n",
      "\u001b[1;32mc:\\users\\dell\\appdata\\local\\programs\\python\\python38-32\\lib\\site-packages\\pandas\\core\\internals\\blocks.py\u001b[0m in \u001b[0;36mmake_block\u001b[1;34m(values, placement, klass, ndim, dtype)\u001b[0m\n\u001b[0;32m   2743\u001b[0m \u001b[1;33m\u001b[0m\u001b[0m\n\u001b[1;32m-> 2744\u001b[1;33m     \u001b[1;32mreturn\u001b[0m \u001b[0mklass\u001b[0m\u001b[1;33m(\u001b[0m\u001b[0mvalues\u001b[0m\u001b[1;33m,\u001b[0m \u001b[0mndim\u001b[0m\u001b[1;33m=\u001b[0m\u001b[0mndim\u001b[0m\u001b[1;33m,\u001b[0m \u001b[0mplacement\u001b[0m\u001b[1;33m=\u001b[0m\u001b[0mplacement\u001b[0m\u001b[1;33m)\u001b[0m\u001b[1;33m\u001b[0m\u001b[1;33m\u001b[0m\u001b[0m\n\u001b[0m\u001b[0;32m   2745\u001b[0m \u001b[1;33m\u001b[0m\u001b[0m\n",
      "\u001b[1;32mc:\\users\\dell\\appdata\\local\\programs\\python\\python38-32\\lib\\site-packages\\pandas\\core\\internals\\blocks.py\u001b[0m in \u001b[0;36m__init__\u001b[1;34m(self, values, placement, ndim)\u001b[0m\n\u001b[0;32m   2399\u001b[0m \u001b[1;33m\u001b[0m\u001b[0m\n\u001b[1;32m-> 2400\u001b[1;33m         \u001b[0msuper\u001b[0m\u001b[1;33m(\u001b[0m\u001b[1;33m)\u001b[0m\u001b[1;33m.\u001b[0m\u001b[0m__init__\u001b[0m\u001b[1;33m(\u001b[0m\u001b[0mvalues\u001b[0m\u001b[1;33m,\u001b[0m \u001b[0mndim\u001b[0m\u001b[1;33m=\u001b[0m\u001b[0mndim\u001b[0m\u001b[1;33m,\u001b[0m \u001b[0mplacement\u001b[0m\u001b[1;33m=\u001b[0m\u001b[0mplacement\u001b[0m\u001b[1;33m)\u001b[0m\u001b[1;33m\u001b[0m\u001b[1;33m\u001b[0m\u001b[0m\n\u001b[0m\u001b[0;32m   2401\u001b[0m \u001b[1;33m\u001b[0m\u001b[0m\n",
      "\u001b[1;32mc:\\users\\dell\\appdata\\local\\programs\\python\\python38-32\\lib\\site-packages\\pandas\\core\\internals\\blocks.py\u001b[0m in \u001b[0;36m__init__\u001b[1;34m(self, values, placement, ndim)\u001b[0m\n\u001b[0;32m    129\u001b[0m         \u001b[1;32mif\u001b[0m \u001b[0mself\u001b[0m\u001b[1;33m.\u001b[0m\u001b[0m_validate_ndim\u001b[0m \u001b[1;32mand\u001b[0m \u001b[0mself\u001b[0m\u001b[1;33m.\u001b[0m\u001b[0mndim\u001b[0m \u001b[1;32mand\u001b[0m \u001b[0mlen\u001b[0m\u001b[1;33m(\u001b[0m\u001b[0mself\u001b[0m\u001b[1;33m.\u001b[0m\u001b[0mmgr_locs\u001b[0m\u001b[1;33m)\u001b[0m \u001b[1;33m!=\u001b[0m \u001b[0mlen\u001b[0m\u001b[1;33m(\u001b[0m\u001b[0mself\u001b[0m\u001b[1;33m.\u001b[0m\u001b[0mvalues\u001b[0m\u001b[1;33m)\u001b[0m\u001b[1;33m:\u001b[0m\u001b[1;33m\u001b[0m\u001b[1;33m\u001b[0m\u001b[0m\n\u001b[1;32m--> 130\u001b[1;33m             raise ValueError(\n\u001b[0m\u001b[0;32m    131\u001b[0m                 \u001b[1;34mf\"Wrong number of items passed {len(self.values)}, \"\u001b[0m\u001b[1;33m\u001b[0m\u001b[1;33m\u001b[0m\u001b[0m\n",
      "\u001b[1;31mValueError\u001b[0m: Wrong number of items passed 1, placement implies 17",
      "\nDuring handling of the above exception, another exception occurred:\n",
      "\u001b[1;31mValueError\u001b[0m                                Traceback (most recent call last)",
      "\u001b[1;32m<ipython-input-82-c2a61dfa7f2d>\u001b[0m in \u001b[0;36m<module>\u001b[1;34m\u001b[0m\n\u001b[1;32m----> 1\u001b[1;33m \u001b[0mdf\u001b[0m \u001b[1;33m=\u001b[0m \u001b[0mpd\u001b[0m\u001b[1;33m.\u001b[0m\u001b[0mDataFrame\u001b[0m\u001b[1;33m(\u001b[0m\u001b[0mrow\u001b[0m\u001b[1;33m,\u001b[0m\u001b[0mcolumns\u001b[0m\u001b[1;33m=\u001b[0m\u001b[0mcolumn_name\u001b[0m\u001b[1;33m)\u001b[0m\u001b[1;33m\u001b[0m\u001b[1;33m\u001b[0m\u001b[0m\n\u001b[0m",
      "\u001b[1;32mc:\\users\\dell\\appdata\\local\\programs\\python\\python38-32\\lib\\site-packages\\pandas\\core\\frame.py\u001b[0m in \u001b[0;36m__init__\u001b[1;34m(self, data, index, columns, dtype, copy)\u001b[0m\n\u001b[0;32m    521\u001b[0m                     \u001b[0mmgr\u001b[0m \u001b[1;33m=\u001b[0m \u001b[0marrays_to_mgr\u001b[0m\u001b[1;33m(\u001b[0m\u001b[0marrays\u001b[0m\u001b[1;33m,\u001b[0m \u001b[0mcolumns\u001b[0m\u001b[1;33m,\u001b[0m \u001b[0mindex\u001b[0m\u001b[1;33m,\u001b[0m \u001b[0mcolumns\u001b[0m\u001b[1;33m,\u001b[0m \u001b[0mdtype\u001b[0m\u001b[1;33m=\u001b[0m\u001b[0mdtype\u001b[0m\u001b[1;33m)\u001b[0m\u001b[1;33m\u001b[0m\u001b[1;33m\u001b[0m\u001b[0m\n\u001b[0;32m    522\u001b[0m                 \u001b[1;32melse\u001b[0m\u001b[1;33m:\u001b[0m\u001b[1;33m\u001b[0m\u001b[1;33m\u001b[0m\u001b[0m\n\u001b[1;32m--> 523\u001b[1;33m                     \u001b[0mmgr\u001b[0m \u001b[1;33m=\u001b[0m \u001b[0minit_ndarray\u001b[0m\u001b[1;33m(\u001b[0m\u001b[0mdata\u001b[0m\u001b[1;33m,\u001b[0m \u001b[0mindex\u001b[0m\u001b[1;33m,\u001b[0m \u001b[0mcolumns\u001b[0m\u001b[1;33m,\u001b[0m \u001b[0mdtype\u001b[0m\u001b[1;33m=\u001b[0m\u001b[0mdtype\u001b[0m\u001b[1;33m,\u001b[0m \u001b[0mcopy\u001b[0m\u001b[1;33m=\u001b[0m\u001b[0mcopy\u001b[0m\u001b[1;33m)\u001b[0m\u001b[1;33m\u001b[0m\u001b[1;33m\u001b[0m\u001b[0m\n\u001b[0m\u001b[0;32m    524\u001b[0m             \u001b[1;32melse\u001b[0m\u001b[1;33m:\u001b[0m\u001b[1;33m\u001b[0m\u001b[1;33m\u001b[0m\u001b[0m\n\u001b[0;32m    525\u001b[0m                 \u001b[0mmgr\u001b[0m \u001b[1;33m=\u001b[0m \u001b[0minit_dict\u001b[0m\u001b[1;33m(\u001b[0m\u001b[1;33m{\u001b[0m\u001b[1;33m}\u001b[0m\u001b[1;33m,\u001b[0m \u001b[0mindex\u001b[0m\u001b[1;33m,\u001b[0m \u001b[0mcolumns\u001b[0m\u001b[1;33m,\u001b[0m \u001b[0mdtype\u001b[0m\u001b[1;33m=\u001b[0m\u001b[0mdtype\u001b[0m\u001b[1;33m)\u001b[0m\u001b[1;33m\u001b[0m\u001b[1;33m\u001b[0m\u001b[0m\n",
      "\u001b[1;32mc:\\users\\dell\\appdata\\local\\programs\\python\\python38-32\\lib\\site-packages\\pandas\\core\\internals\\construction.py\u001b[0m in \u001b[0;36minit_ndarray\u001b[1;34m(values, index, columns, dtype, copy)\u001b[0m\n\u001b[0;32m    232\u001b[0m         \u001b[0mblock_values\u001b[0m \u001b[1;33m=\u001b[0m \u001b[1;33m[\u001b[0m\u001b[0mvalues\u001b[0m\u001b[1;33m]\u001b[0m\u001b[1;33m\u001b[0m\u001b[1;33m\u001b[0m\u001b[0m\n\u001b[0;32m    233\u001b[0m \u001b[1;33m\u001b[0m\u001b[0m\n\u001b[1;32m--> 234\u001b[1;33m     \u001b[1;32mreturn\u001b[0m \u001b[0mcreate_block_manager_from_blocks\u001b[0m\u001b[1;33m(\u001b[0m\u001b[0mblock_values\u001b[0m\u001b[1;33m,\u001b[0m \u001b[1;33m[\u001b[0m\u001b[0mcolumns\u001b[0m\u001b[1;33m,\u001b[0m \u001b[0mindex\u001b[0m\u001b[1;33m]\u001b[0m\u001b[1;33m)\u001b[0m\u001b[1;33m\u001b[0m\u001b[1;33m\u001b[0m\u001b[0m\n\u001b[0m\u001b[0;32m    235\u001b[0m \u001b[1;33m\u001b[0m\u001b[0m\n\u001b[0;32m    236\u001b[0m \u001b[1;33m\u001b[0m\u001b[0m\n",
      "\u001b[1;32mc:\\users\\dell\\appdata\\local\\programs\\python\\python38-32\\lib\\site-packages\\pandas\\core\\internals\\managers.py\u001b[0m in \u001b[0;36mcreate_block_manager_from_blocks\u001b[1;34m(blocks, axes)\u001b[0m\n\u001b[0;32m   1679\u001b[0m         \u001b[0mblocks\u001b[0m \u001b[1;33m=\u001b[0m \u001b[1;33m[\u001b[0m\u001b[0mgetattr\u001b[0m\u001b[1;33m(\u001b[0m\u001b[0mb\u001b[0m\u001b[1;33m,\u001b[0m \u001b[1;34m\"values\"\u001b[0m\u001b[1;33m,\u001b[0m \u001b[0mb\u001b[0m\u001b[1;33m)\u001b[0m \u001b[1;32mfor\u001b[0m \u001b[0mb\u001b[0m \u001b[1;32min\u001b[0m \u001b[0mblocks\u001b[0m\u001b[1;33m]\u001b[0m\u001b[1;33m\u001b[0m\u001b[1;33m\u001b[0m\u001b[0m\n\u001b[0;32m   1680\u001b[0m         \u001b[0mtot_items\u001b[0m \u001b[1;33m=\u001b[0m \u001b[0msum\u001b[0m\u001b[1;33m(\u001b[0m\u001b[0mb\u001b[0m\u001b[1;33m.\u001b[0m\u001b[0mshape\u001b[0m\u001b[1;33m[\u001b[0m\u001b[1;36m0\u001b[0m\u001b[1;33m]\u001b[0m \u001b[1;32mfor\u001b[0m \u001b[0mb\u001b[0m \u001b[1;32min\u001b[0m \u001b[0mblocks\u001b[0m\u001b[1;33m)\u001b[0m\u001b[1;33m\u001b[0m\u001b[1;33m\u001b[0m\u001b[0m\n\u001b[1;32m-> 1681\u001b[1;33m         \u001b[1;32mraise\u001b[0m \u001b[0mconstruction_error\u001b[0m\u001b[1;33m(\u001b[0m\u001b[0mtot_items\u001b[0m\u001b[1;33m,\u001b[0m \u001b[0mblocks\u001b[0m\u001b[1;33m[\u001b[0m\u001b[1;36m0\u001b[0m\u001b[1;33m]\u001b[0m\u001b[1;33m.\u001b[0m\u001b[0mshape\u001b[0m\u001b[1;33m[\u001b[0m\u001b[1;36m1\u001b[0m\u001b[1;33m:\u001b[0m\u001b[1;33m]\u001b[0m\u001b[1;33m,\u001b[0m \u001b[0maxes\u001b[0m\u001b[1;33m,\u001b[0m \u001b[0me\u001b[0m\u001b[1;33m)\u001b[0m\u001b[1;33m\u001b[0m\u001b[1;33m\u001b[0m\u001b[0m\n\u001b[0m\u001b[0;32m   1682\u001b[0m \u001b[1;33m\u001b[0m\u001b[0m\n\u001b[0;32m   1683\u001b[0m \u001b[1;33m\u001b[0m\u001b[0m\n",
      "\u001b[1;31mValueError\u001b[0m: Shape of passed values is (5, 1), indices imply (5, 17)"
     ]
    }
   ],
   "source": [
    "df = pd.DataFrame(row,columns=column_name)"
   ]
  },
  {
   "cell_type": "code",
   "execution_count": null,
   "metadata": {},
   "outputs": [],
   "source": [
    "# 1: Getting table from the webpage.\n",
    "table  =  soup.find('table',class_='hockey-stats')"
   ]
  },
  {
   "cell_type": "code",
   "execution_count": null,
   "metadata": {},
   "outputs": [],
   "source": [
    "# 2: Getting Column names from the table.\n",
    "col = table.find('thead').find_all('th')\n",
    "# getting only text from the col variable\n",
    "columns_name  = []\n",
    "\n",
    "for column in col:\n",
    "    columns_name.append(column.text)"
   ]
  },
  {
   "cell_type": "code",
   "execution_count": null,
   "metadata": {},
   "outputs": [],
   "source": [
    "# 3: Getting rows \n",
    "l = []\n",
    "raw_rows = table.find('tbody').find_all('tr')\n",
    "for i in raw_rows:\n",
    "    td = i.find_all('td') \n",
    "    row = [str(i.get_text()).strip() for i in td]\n",
    "    l.append(row)\n"
   ]
  },
  {
   "cell_type": "code",
   "execution_count": null,
   "metadata": {},
   "outputs": [],
   "source": [
    "df = pd.DataFrame(l,columns=columns_name)"
   ]
  },
  {
   "cell_type": "code",
   "execution_count": null,
   "metadata": {},
   "outputs": [],
   "source": [
    "df"
   ]
  },
  {
   "cell_type": "code",
   "execution_count": null,
   "metadata": {},
   "outputs": [],
   "source": [
    "# 3: Getting rows \n",
    "l = []\n",
    "raw_rows = table.find('tbody').find_all('tr')\n",
    "for i in raw_rows:\n",
    "    td = i.find_all('td')\n",
    "    for r in td:\n",
    "        if r.text:\n",
    "            \n",
    "            l.append(r.text.split())"
   ]
  },
  {
   "cell_type": "code",
   "execution_count": null,
   "metadata": {},
   "outputs": [],
   "source": [
    "# Task 3 -: Grab all fun facts that use word 'is'"
   ]
  },
  {
   "cell_type": "code",
   "execution_count": null,
   "metadata": {},
   "outputs": [],
   "source": [
    "fun_facts = soup.find('ul',class_='fun-facts')"
   ]
  },
  {
   "cell_type": "code",
   "execution_count": null,
   "metadata": {},
   "outputs": [],
   "source": [
    "fun_facts"
   ]
  },
  {
   "cell_type": "code",
   "execution_count": null,
   "metadata": {},
   "outputs": [],
   "source": [
    "text = []\n",
    "\n",
    "for f in fun_facts.find_all('li'):\n",
    "    t = f.get_text()\n",
    "    if 'is' in t:\n",
    "        text.append(t)\n",
    "    \n",
    "    "
   ]
  },
  {
   "cell_type": "code",
   "execution_count": null,
   "metadata": {},
   "outputs": [],
   "source": [
    "text"
   ]
  },
  {
   "cell_type": "code",
   "execution_count": null,
   "metadata": {},
   "outputs": [],
   "source": [
    "# extracting Image from the WebPage"
   ]
  },
  {
   "cell_type": "code",
   "execution_count": null,
   "metadata": {},
   "outputs": [],
   "source": [
    "im =  soup.select('div.column img ')"
   ]
  },
  {
   "cell_type": "code",
   "execution_count": null,
   "metadata": {},
   "outputs": [],
   "source": [
    "im"
   ]
  },
  {
   "cell_type": "code",
   "execution_count": null,
   "metadata": {},
   "outputs": [],
   "source": [
    "for i in im:\n",
    "    i.a['href']"
   ]
  },
  {
   "cell_type": "code",
   "execution_count": null,
   "metadata": {},
   "outputs": [],
   "source": [
    "imgs = soup.findAll(\"div\", {\"class\":\"column\"})"
   ]
  },
  {
   "cell_type": "code",
   "execution_count": null,
   "metadata": {
    "scrolled": true
   },
   "outputs": [],
   "source": []
  },
  {
   "cell_type": "code",
   "execution_count": null,
   "metadata": {},
   "outputs": [],
   "source": [
    "images"
   ]
  },
  {
   "cell_type": "code",
   "execution_count": null,
   "metadata": {},
   "outputs": [],
   "source": [
    "images = soup.find_all('img')\n",
    "for i in images:\n",
    "    print(i['src'])\n",
    "    "
   ]
  },
  {
   "cell_type": "code",
   "execution_count": null,
   "metadata": {},
   "outputs": [],
   "source": [
    "print(soup.select('div.row div.column img'))"
   ]
  },
  {
   "cell_type": "code",
   "execution_count": null,
   "metadata": {},
   "outputs": [],
   "source": [
    "#task 4-: getting secret message"
   ]
  },
  {
   "cell_type": "code",
   "execution_count": null,
   "metadata": {},
   "outputs": [],
   "source": [
    "file_names = soup.select('div.block li')\n",
    "file_names"
   ]
  },
  {
   "cell_type": "code",
   "execution_count": null,
   "metadata": {},
   "outputs": [],
   "source": [
    "file_names = soup.find_all('div',class_='block')"
   ]
  },
  {
   "cell_type": "code",
   "execution_count": null,
   "metadata": {},
   "outputs": [],
   "source": [
    "l= []\n",
    "for i in file_names:\n",
    "    li = i.find_all('li')\n",
    "    for a in li:\n",
    "        a = a.find_all('a')\n",
    "        for link in a:\n",
    "            l.append(link['href'])"
   ]
  },
  {
   "cell_type": "code",
   "execution_count": null,
   "metadata": {},
   "outputs": [],
   "source": [
    "l"
   ]
  },
  {
   "cell_type": "code",
   "execution_count": null,
   "metadata": {},
   "outputs": [],
   "source": []
  }
 ],
 "metadata": {
  "kernelspec": {
   "display_name": "Python 3",
   "language": "python",
   "name": "python3"
  },
  "language_info": {
   "codemirror_mode": {
    "name": "ipython",
    "version": 3
   },
   "file_extension": ".py",
   "mimetype": "text/x-python",
   "name": "python",
   "nbconvert_exporter": "python",
   "pygments_lexer": "ipython3",
   "version": "3.8.5"
  }
 },
 "nbformat": 4,
 "nbformat_minor": 4
}
